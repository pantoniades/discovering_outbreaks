{
 "cells": [
  {
   "cell_type": "code",
   "execution_count": 1,
   "metadata": {},
   "outputs": [],
   "source": [
    "import re\n",
    "import pandas as pd\n",
    "from geonamescache import GeonamesCache\n",
    "from unidecode import unidecode\n",
    "\n",
    "headlines = './data/headlines.txt'\n",
    "\n",
    "class LocationExtractor:\n",
    "    \"\"\"Class to pull City and Country names from a string\"\"\"\n",
    "    \n",
    "    geocache = GeonamesCache()\n",
    "    city_regex = None\n",
    "    country_regex = None\n",
    "    \n",
    "    def __init__(self):\n",
    "        gc = GeonamesCache()\n",
    "        countries = self.geocache.get_countries()\n",
    "        cities = self.geocache.get_cities()\n",
    "        \n",
    "        country_names = []\n",
    "        city_names = []\n",
    "        \n",
    "        for c in cities.values():\n",
    "            city_names.append( r\"\\b\" + unidecode( c['name'] + r\"\\b\" ) )\n",
    "\n",
    "        for c in countries.values():\n",
    "            country_names.append( r\"\\b\" + unidecode( c['name'] ).replace( ' ', r\"\\s\" ) + r\"\\b\" )\n",
    "\n",
    "        self.city_regex = self.regex_from_array( city_names )\n",
    "        self.country_regex = self.regex_from_array( country_names )\n",
    "    \n",
    "    def find_cities( self, city_str ):\n",
    "        found_cities = []\n",
    "        matches = self.city_regex.search( city_str )\n",
    "        if( matches ):\n",
    "            for c in matches.groups():\n",
    "                if( len( self.geocache.get_cities_by_name( c ) ) > 0 ):\n",
    "                    found_cities.append( c )\n",
    "        return found_cities\n",
    "    \n",
    "    def find_countries( self, country_str ):\n",
    "        found_countries = []\n",
    "        matches = self.country_regex.search( country_str )\n",
    "        if( matches ):\n",
    "            for c in matches.groups():\n",
    "                found_countries.append( c )\n",
    "        return found_countries\n",
    "            \n",
    "    def regex_from_array( self, rarray ):\n",
    "        # ensure unique & sort by length (so Witchita Falls is tried before Wichita)\n",
    "        rarray = sorted( list( set( rarray ) ), key=len)\n",
    "        rarray.reverse()\n",
    "\n",
    "        regex = \"(\"\n",
    "        regex += \"|\".join( rarray )\n",
    "        regex += ')'\n",
    "        rc = re.compile( regex, re.IGNORECASE )\n",
    "        return rc\n",
    "    \n"
   ]
  },
  {
   "cell_type": "code",
   "execution_count": 2,
   "metadata": {},
   "outputs": [],
   "source": [
    "le = LocationExtractor()\n",
    "rows = []"
   ]
  },
  {
   "cell_type": "code",
   "execution_count": 3,
   "metadata": {},
   "outputs": [],
   "source": [
    "for line in open( headlines ):\n",
    "    cities = le.find_cities( line )\n",
    "    countries = le.find_countries( line )\n",
    "    rows.append( (line, \",\".join( countries), \",\".join( cities ) ) )"
   ]
  },
  {
   "cell_type": "code",
   "execution_count": 4,
   "metadata": {},
   "outputs": [
    {
     "name": "stdout",
     "output_type": "stream",
     "text": [
      "                                              headline countries  \\\n",
      "0                           Zika Outbreak Hits Miami\\n             \n",
      "1                    Could Zika Reach New York City?\\n             \n",
      "2                  First Case of Zika in Miami Beach\\n             \n",
      "3            Mystery Virus Spreads in Recife, Brazil\\n    Brazil   \n",
      "4            Dallas man comes down with case of Zika\\n             \n",
      "..                                                 ...       ...   \n",
      "645  Rumors about Rabies spreading in Jerusalem hav...             \n",
      "646            More Zika patients reported in Indang\\n             \n",
      "647  Suva authorities confirmed the spread of Rotav...             \n",
      "648       More Zika patients reported in Bella Vista\\n             \n",
      "649                   Zika Outbreak in Wichita Falls\\n             \n",
      "\n",
      "            cities  \n",
      "0            Miami  \n",
      "1    New York City  \n",
      "2                   \n",
      "3           Recife  \n",
      "4           Dallas  \n",
      "..             ...  \n",
      "645      Jerusalem  \n",
      "646         Indang  \n",
      "647           Suva  \n",
      "648    Bella Vista  \n",
      "649  Wichita Falls  \n",
      "\n",
      "[650 rows x 3 columns]\n"
     ]
    }
   ],
   "source": [
    "df = pd.DataFrame( rows, columns = ( \"headline\", \"countries\", \"cities\" ) )\n",
    "print( df )"
   ]
  },
  {
   "cell_type": "code",
   "execution_count": null,
   "metadata": {},
   "outputs": [],
   "source": []
  }
 ],
 "metadata": {
  "kernelspec": {
   "display_name": "Python 3",
   "language": "python",
   "name": "python3"
  },
  "language_info": {
   "codemirror_mode": {
    "name": "ipython",
    "version": 3
   },
   "file_extension": ".py",
   "mimetype": "text/x-python",
   "name": "python",
   "nbconvert_exporter": "python",
   "pygments_lexer": "ipython3",
   "version": "3.7.6"
  }
 },
 "nbformat": 4,
 "nbformat_minor": 4
}
